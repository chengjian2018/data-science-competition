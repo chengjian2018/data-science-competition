{
 "cells": [
  {
   "cell_type": "code",
   "execution_count": 1,
   "metadata": {},
   "outputs": [],
   "source": [
    "import pandas as pd\n",
    "from tqdm import tqdm\n",
    "import warnings\n",
    "import lightgbm as lgb\n",
    "import numpy as np\n",
    "from sklearn.model_selection import StratifiedKFold\n",
    "from sklearn.metrics import roc_auc_score\n",
    "import re\n",
    "\n",
    "warnings.filterwarnings('ignore')"
   ]
  },
  {
   "cell_type": "code",
   "execution_count": 3,
   "metadata": {},
   "outputs": [],
   "source": [
    "# 日期特征工程\n",
    "def get_inner_date_feature_eng(data):\n",
    "    data['date'] = pd.to_datetime(data['date'])\n",
    "    data[\"month\"] = data['date'].dt.month\n",
    "    data[\"year\"] = data['date'].dt.year\n",
    "\n",
    "    data[\"day\"] = data['date'].dt.day\n",
    "    data[\"dayofw\"] = data['date'].dt.dayofweek\n",
    "    data[\"dayofy\"] = data['date'].dt.dayofyear\n",
    "    data[\"week\"] = data['date'].dt.week\n",
    "    data[\"quarter\"] = data['date'].dt.quarter\n",
    "\n",
    "    return data\n",
    "\n",
    "wkd = pd.read_csv('data/wkd_v1.csv')\n",
    "train = pd.read_csv('data/train_v2.csv')\n",
    "train = pd.merge(train, wkd, left_on='date', right_on='ORIG_DT', how='left')\n",
    "train['amount_sum'] = train.groupby(['date', 'post_id'])['amount'].transform('sum')\n",
    "k = train.drop_duplicates(['date', 'post_id'])\n",
    "\n",
    "k1 = k[k['post_id'] == 'A']\n",
    "k2 = k[k['post_id'] == 'B']"
   ]
  },
  {
   "cell_type": "code",
   "execution_count": 4,
   "metadata": {},
   "outputs": [],
   "source": [
    "k = k1.copy()\n",
    "k = get_inner_date_feature_eng(k)\n",
    "train1 = k[['WKD_TYP_CD',  'month',\n",
    "       'year', 'day', 'dayofw', 'dayofy', 'week', 'quarter']][:-30]\n",
    "train1_y = k['amount_sum'][:-30]\n",
    "\n",
    "valid1 = k[['WKD_TYP_CD',  'month',\n",
    "       'year', 'day', 'dayofw', 'dayofy', 'week', 'quarter']][-30:]\n",
    "valid1_y = k['amount_sum'][-30:]"
   ]
  },
  {
   "cell_type": "code",
   "execution_count": 6,
   "metadata": {},
   "outputs": [],
   "source": [
    "test_v1 = pd.read_csv('data/test_v2_day.csv')\n",
    "test_v1 = pd.merge(test_v1, wkd, left_on='date', right_on='ORIG_DT', how='left')\n",
    "test_v1_A = test_v1[test_v1['post_id'] == 'A']\n",
    "\n",
    "test_v1_A = get_inner_date_feature_eng(test_v1_A)\n",
    "test = test_v1_A[['WKD_TYP_CD',   'month',\n",
    "       'year', 'day', 'dayofw', 'dayofy', 'week', 'quarter']]"
   ]
  },
  {
   "cell_type": "code",
   "execution_count": 7,
   "metadata": {},
   "outputs": [
    {
     "name": "stdout",
     "output_type": "stream",
     "text": [
      "Training until validation scores don't improve for 50 rounds\n",
      "[50]\ttraining's poisson: -154774\tvalid_1's poisson: -129425\n",
      "[100]\ttraining's poisson: -154836\tvalid_1's poisson: -129427\n",
      "[150]\ttraining's poisson: -154855\tvalid_1's poisson: -129428\n",
      "[200]\ttraining's poisson: -154860\tvalid_1's poisson: -129428\n",
      "Early stopping, best iteration is:\n",
      "[158]\ttraining's poisson: -154856\tvalid_1's poisson: -129428\n"
     ]
    }
   ],
   "source": [
    "cat_cols = ['WKD_TYP_CD', ]\n",
    "train1[cat_cols] = train1[cat_cols].astype('category')\n",
    "valid1[cat_cols] = valid1[cat_cols].astype('category')\n",
    "\n",
    "\n",
    "test[cat_cols] = test[cat_cols].astype('category')\n",
    "\n",
    "params = {'learning_rate': 0.1, \n",
    "        'boosting_type': 'gbdt', \n",
    "        'objective': 'regression_l1',\n",
    "        'metric': 'poisson',\n",
    "        'seed': 2019, \n",
    "        'verbosity': -1, \n",
    "       }\n",
    "\n",
    "\n",
    "train_set = lgb.Dataset(train1, train1_y)\n",
    "val_set = lgb.Dataset(valid1, valid1_y)\n",
    "\n",
    "model = lgb.train(params, train_set, num_boost_round=2000,\n",
    "                  valid_sets=(train_set, val_set), early_stopping_rounds=50,\n",
    "                  verbose_eval=50,\n",
    "                 categorical_feature=cat_cols\n",
    "                 )\n",
    "oof_train = model.predict(valid1)\n",
    "test_predict = model.predict(test)"
   ]
  },
  {
   "cell_type": "code",
   "execution_count": 8,
   "metadata": {},
   "outputs": [
    {
     "data": {
      "text/plain": [
       "0.036296142571395004"
      ]
     },
     "execution_count": 8,
     "metadata": {},
     "output_type": "execute_result"
    }
   ],
   "source": [
    "def mape(y_true, y_pred):\n",
    "    y_true, y_pred = np.array(y_true), np.array(y_pred)\n",
    "    return np.mean(np.abs((y_true - y_pred) / (y_true + 1))) \n",
    "test_v1_A['amount'] = test_predict\n",
    "mape(valid1_y, oof_train)"
   ]
  },
  {
   "cell_type": "code",
   "execution_count": 9,
   "metadata": {},
   "outputs": [],
   "source": [
    "k = k2.copy()\n",
    "k = get_inner_date_feature_eng(k)\n",
    "test_v1_B = test_v1[test_v1['post_id'] == 'B']\n",
    "\n",
    "test_v1_B = get_inner_date_feature_eng(test_v1_B)\n",
    "test = test_v1_B[['WKD_TYP_CD',   'month',\n",
    "       'year', 'day', 'dayofw', 'dayofy', 'week', 'quarter']]"
   ]
  },
  {
   "cell_type": "code",
   "execution_count": 10,
   "metadata": {},
   "outputs": [],
   "source": [
    "train1 = k[['WKD_TYP_CD',  'month',\n",
    "       'year', 'day', 'dayofw', 'dayofy', 'week', 'quarter']][:-30]\n",
    "train1_y = k['amount_sum'][:-30]\n",
    "\n",
    "valid1 = k[['WKD_TYP_CD',  'month',\n",
    "       'year', 'day', 'dayofw', 'dayofy', 'week', 'quarter']][-30:]\n",
    "valid1_y = k['amount_sum'][-30:]"
   ]
  },
  {
   "cell_type": "code",
   "execution_count": 11,
   "metadata": {},
   "outputs": [
    {
     "name": "stdout",
     "output_type": "stream",
     "text": [
      "Training until validation scores don't improve for 50 rounds\n",
      "[50]\ttraining's poisson: -20750.7\tvalid_1's poisson: -14507.9\n",
      "[100]\ttraining's poisson: -20757.6\tvalid_1's poisson: -14507.1\n",
      "Early stopping, best iteration is:\n",
      "[61]\ttraining's poisson: -20754.5\tvalid_1's poisson: -14508.9\n"
     ]
    }
   ],
   "source": [
    "cat_cols = ['WKD_TYP_CD', ]\n",
    "train1[cat_cols] = train1[cat_cols].astype('category')\n",
    "valid1[cat_cols] = valid1[cat_cols].astype('category')\n",
    "\n",
    "\n",
    "test[cat_cols] = test[cat_cols].astype('category')\n",
    "\n",
    "params = {'learning_rate': 0.1, \n",
    "        'boosting_type': 'gbdt', \n",
    "        'objective': 'regression_l1',\n",
    "        'metric': 'poisson',\n",
    "        'seed': 2019, \n",
    "        'verbosity': -1, \n",
    "       }\n",
    "\n",
    "\n",
    "train_set = lgb.Dataset(train1, train1_y)\n",
    "val_set = lgb.Dataset(valid1, valid1_y)\n",
    "\n",
    "model = lgb.train(params, train_set, num_boost_round=5000,\n",
    "                  valid_sets=(train_set, val_set), early_stopping_rounds=50,\n",
    "                  verbose_eval=50,\n",
    "                 categorical_feature=cat_cols\n",
    "                 )\n",
    "oof_train = model.predict(valid1)\n",
    "test_predict = model.predict(test)"
   ]
  },
  {
   "cell_type": "code",
   "execution_count": 12,
   "metadata": {},
   "outputs": [],
   "source": [
    "test_predict = test_predict + 666\n",
    "test_predict[(test_predict < 1000)] = 0\n",
    "test_v1_B['amount'] = test_predict"
   ]
  },
  {
   "cell_type": "code",
   "execution_count": 13,
   "metadata": {},
   "outputs": [
    {
     "data": {
      "text/plain": [
       "0.06229676183366535"
      ]
     },
     "execution_count": 13,
     "metadata": {},
     "output_type": "execute_result"
    }
   ],
   "source": [
    "oof_train = oof_train  + 250\n",
    "oof_train[(oof_train < 1000)] = 0\n",
    "mape(valid1_y, oof_train) * 30 / 21"
   ]
  },
  {
   "cell_type": "code",
   "execution_count": 14,
   "metadata": {},
   "outputs": [
    {
     "data": {
      "text/html": [
       "<div>\n",
       "<style scoped>\n",
       "    .dataframe tbody tr th:only-of-type {\n",
       "        vertical-align: middle;\n",
       "    }\n",
       "\n",
       "    .dataframe tbody tr th {\n",
       "        vertical-align: top;\n",
       "    }\n",
       "\n",
       "    .dataframe thead th {\n",
       "        text-align: right;\n",
       "    }\n",
       "</style>\n",
       "<table border=\"1\" class=\"dataframe\">\n",
       "  <thead>\n",
       "    <tr style=\"text-align: right;\">\n",
       "      <th></th>\n",
       "      <th>date</th>\n",
       "      <th>post_id</th>\n",
       "      <th>amount</th>\n",
       "    </tr>\n",
       "  </thead>\n",
       "  <tbody>\n",
       "    <tr>\n",
       "      <th>0</th>\n",
       "      <td>2020-12-01</td>\n",
       "      <td>A</td>\n",
       "      <td>18553</td>\n",
       "    </tr>\n",
       "    <tr>\n",
       "      <th>1</th>\n",
       "      <td>2020-12-01</td>\n",
       "      <td>B</td>\n",
       "      <td>2839</td>\n",
       "    </tr>\n",
       "    <tr>\n",
       "      <th>2</th>\n",
       "      <td>2020-12-02</td>\n",
       "      <td>A</td>\n",
       "      <td>17331</td>\n",
       "    </tr>\n",
       "    <tr>\n",
       "      <th>3</th>\n",
       "      <td>2020-12-02</td>\n",
       "      <td>B</td>\n",
       "      <td>2842</td>\n",
       "    </tr>\n",
       "    <tr>\n",
       "      <th>4</th>\n",
       "      <td>2020-12-03</td>\n",
       "      <td>A</td>\n",
       "      <td>17168</td>\n",
       "    </tr>\n",
       "    <tr>\n",
       "      <th>...</th>\n",
       "      <td>...</td>\n",
       "      <td>...</td>\n",
       "      <td>...</td>\n",
       "    </tr>\n",
       "    <tr>\n",
       "      <th>57</th>\n",
       "      <td>2020-12-29</td>\n",
       "      <td>B</td>\n",
       "      <td>3637</td>\n",
       "    </tr>\n",
       "    <tr>\n",
       "      <th>58</th>\n",
       "      <td>2020-12-30</td>\n",
       "      <td>A</td>\n",
       "      <td>20914</td>\n",
       "    </tr>\n",
       "    <tr>\n",
       "      <th>59</th>\n",
       "      <td>2020-12-30</td>\n",
       "      <td>B</td>\n",
       "      <td>3633</td>\n",
       "    </tr>\n",
       "    <tr>\n",
       "      <th>60</th>\n",
       "      <td>2020-12-31</td>\n",
       "      <td>A</td>\n",
       "      <td>20606</td>\n",
       "    </tr>\n",
       "    <tr>\n",
       "      <th>61</th>\n",
       "      <td>2020-12-31</td>\n",
       "      <td>B</td>\n",
       "      <td>3630</td>\n",
       "    </tr>\n",
       "  </tbody>\n",
       "</table>\n",
       "<p>62 rows × 3 columns</p>\n",
       "</div>"
      ],
      "text/plain": [
       "         date post_id  amount\n",
       "0  2020-12-01       A   18553\n",
       "1  2020-12-01       B    2839\n",
       "2  2020-12-02       A   17331\n",
       "3  2020-12-02       B    2842\n",
       "4  2020-12-03       A   17168\n",
       "..        ...     ...     ...\n",
       "57 2020-12-29       B    3637\n",
       "58 2020-12-30       A   20914\n",
       "59 2020-12-30       B    3633\n",
       "60 2020-12-31       A   20606\n",
       "61 2020-12-31       B    3630\n",
       "\n",
       "[62 rows x 3 columns]"
      ]
     },
     "execution_count": 14,
     "metadata": {},
     "output_type": "execute_result"
    }
   ],
   "source": [
    "test_ = pd.concat([test_v1_A, test_v1_B], axis=0)\n",
    "test_v1['date'] = pd.to_datetime(test_v1['date'])\n",
    "test_ = pd.merge(test_v1[['date', 'post_id']], test_[['date', 'post_id', 'amount']], on=['date', 'post_id'], how='left')\n",
    "\n",
    "test_['amount'] = test_['amount'].astype('int')\n",
    "# test_[['date', 'post_id', 'amount']].to_csv('sub_day_lgb_all_666.txt', index=False)\n",
    "test_"
   ]
  },
  {
   "cell_type": "code",
   "execution_count": null,
   "metadata": {},
   "outputs": [],
   "source": []
  }
 ],
 "metadata": {
  "kernelspec": {
   "display_name": "cat-shap",
   "language": "python",
   "name": "shap"
  },
  "language_info": {
   "codemirror_mode": {
    "name": "ipython",
    "version": 3
   },
   "file_extension": ".py",
   "mimetype": "text/x-python",
   "name": "python",
   "nbconvert_exporter": "python",
   "pygments_lexer": "ipython3",
   "version": "3.6.10"
  }
 },
 "nbformat": 4,
 "nbformat_minor": 4
}
